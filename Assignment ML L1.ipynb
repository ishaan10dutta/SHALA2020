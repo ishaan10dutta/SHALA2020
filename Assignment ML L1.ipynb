{
 "cells": [
  {
   "cell_type": "markdown",
   "metadata": {
    "colab_type": "text",
    "id": "_lnS8bdSWnuK"
   },
   "source": [
    "# **Assignment 1** (Intro to Machine Learning)"
   ]
  },
  {
   "cell_type": "markdown",
   "metadata": {
    "colab_type": "text",
    "id": "a0_VaZIOWzut"
   },
   "source": [
    "## Note:\n",
    "\n",
    "* The dataset to be used is `attrition.csv`. This dataset reveals whether a particular employee left the company or not.  \n",
    "* In this dataset, the column named `Attrition` is the target variable and the remaining columns are features. Please note that `Attrition = 1` means the employee left the company, whereas `Attrition = 0` means the opposite of this statement. \n",
    "*  This dataset has been loaded in this assignment as shown below. In case, you are not able to load this data, please note that this data is stored separately as well in the assignment folder. "
   ]
  },
  {
   "cell_type": "code",
   "execution_count": 117,
   "metadata": {
    "colab": {},
    "colab_type": "code",
    "id": "7bF8pLu6VdCg"
   },
   "outputs": [],
   "source": [
    "import numpy as np \n",
    "import pandas as pd\n",
    "import matplotlib.pyplot as plt\n",
    "import seaborn as sns"
   ]
  },
  {
   "cell_type": "code",
   "execution_count": 118,
   "metadata": {
    "colab": {},
    "colab_type": "code",
    "id": "5ABlrvQjXFgv"
   },
   "outputs": [],
   "source": [
    "data_url = \"https://raw.githubusercontent.com/shala2020/shala2020.github.io/master/Lecture_Materials/Assignments/MachineLearning/L1/attrition.csv\"\n",
    "df = pd.read_csv(data_url)"
   ]
  },
  {
   "cell_type": "code",
   "execution_count": 119,
   "metadata": {
    "colab": {
     "base_uri": "https://localhost:8080/",
     "height": 309
    },
    "colab_type": "code",
    "id": "ljGWG-REXpeg",
    "outputId": "fff0bfc7-1d29-43f3-ca27-3beff633a435"
   },
   "outputs": [
    {
     "data": {
      "text/html": [
       "<div>\n",
       "<style scoped>\n",
       "    .dataframe tbody tr th:only-of-type {\n",
       "        vertical-align: middle;\n",
       "    }\n",
       "\n",
       "    .dataframe tbody tr th {\n",
       "        vertical-align: top;\n",
       "    }\n",
       "\n",
       "    .dataframe thead th {\n",
       "        text-align: right;\n",
       "    }\n",
       "</style>\n",
       "<table border=\"1\" class=\"dataframe\">\n",
       "  <thead>\n",
       "    <tr style=\"text-align: right;\">\n",
       "      <th></th>\n",
       "      <th>Age</th>\n",
       "      <th>Attrition</th>\n",
       "      <th>BusinessTravel</th>\n",
       "      <th>DailyRate</th>\n",
       "      <th>Department</th>\n",
       "      <th>DistanceFromHome</th>\n",
       "      <th>Education</th>\n",
       "      <th>EducationField</th>\n",
       "      <th>EmployeeCount</th>\n",
       "      <th>EmployeeNumber</th>\n",
       "      <th>...</th>\n",
       "      <th>RelationshipSatisfaction</th>\n",
       "      <th>StockOptionLevel</th>\n",
       "      <th>TotalWorkingYears</th>\n",
       "      <th>TrainingTimesLastYear</th>\n",
       "      <th>WorkLifeBalance</th>\n",
       "      <th>YearsAtCompany</th>\n",
       "      <th>YearsInCurrentRole</th>\n",
       "      <th>YearsSinceLastPromotion</th>\n",
       "      <th>YearsWithCurrManager</th>\n",
       "      <th>ID</th>\n",
       "    </tr>\n",
       "  </thead>\n",
       "  <tbody>\n",
       "    <tr>\n",
       "      <td>0</td>\n",
       "      <td>41</td>\n",
       "      <td>1</td>\n",
       "      <td>Travel_Rarely</td>\n",
       "      <td>1102</td>\n",
       "      <td>Sales</td>\n",
       "      <td>1</td>\n",
       "      <td>2</td>\n",
       "      <td>Life Sciences</td>\n",
       "      <td>1</td>\n",
       "      <td>1</td>\n",
       "      <td>...</td>\n",
       "      <td>1</td>\n",
       "      <td>0</td>\n",
       "      <td>8</td>\n",
       "      <td>0</td>\n",
       "      <td>1</td>\n",
       "      <td>6</td>\n",
       "      <td>4</td>\n",
       "      <td>0</td>\n",
       "      <td>5</td>\n",
       "      <td>0</td>\n",
       "    </tr>\n",
       "    <tr>\n",
       "      <td>1</td>\n",
       "      <td>49</td>\n",
       "      <td>0</td>\n",
       "      <td>Travel_Frequently</td>\n",
       "      <td>279</td>\n",
       "      <td>Research &amp; Development</td>\n",
       "      <td>8</td>\n",
       "      <td>1</td>\n",
       "      <td>Life Sciences</td>\n",
       "      <td>1</td>\n",
       "      <td>2</td>\n",
       "      <td>...</td>\n",
       "      <td>4</td>\n",
       "      <td>1</td>\n",
       "      <td>10</td>\n",
       "      <td>3</td>\n",
       "      <td>3</td>\n",
       "      <td>10</td>\n",
       "      <td>7</td>\n",
       "      <td>1</td>\n",
       "      <td>7</td>\n",
       "      <td>1</td>\n",
       "    </tr>\n",
       "    <tr>\n",
       "      <td>2</td>\n",
       "      <td>37</td>\n",
       "      <td>1</td>\n",
       "      <td>Travel_Rarely</td>\n",
       "      <td>1373</td>\n",
       "      <td>Research &amp; Development</td>\n",
       "      <td>2</td>\n",
       "      <td>2</td>\n",
       "      <td>Other</td>\n",
       "      <td>1</td>\n",
       "      <td>4</td>\n",
       "      <td>...</td>\n",
       "      <td>2</td>\n",
       "      <td>0</td>\n",
       "      <td>7</td>\n",
       "      <td>3</td>\n",
       "      <td>3</td>\n",
       "      <td>0</td>\n",
       "      <td>0</td>\n",
       "      <td>0</td>\n",
       "      <td>0</td>\n",
       "      <td>2</td>\n",
       "    </tr>\n",
       "    <tr>\n",
       "      <td>3</td>\n",
       "      <td>33</td>\n",
       "      <td>0</td>\n",
       "      <td>Travel_Frequently</td>\n",
       "      <td>1392</td>\n",
       "      <td>Research &amp; Development</td>\n",
       "      <td>3</td>\n",
       "      <td>4</td>\n",
       "      <td>Life Sciences</td>\n",
       "      <td>1</td>\n",
       "      <td>5</td>\n",
       "      <td>...</td>\n",
       "      <td>3</td>\n",
       "      <td>0</td>\n",
       "      <td>8</td>\n",
       "      <td>3</td>\n",
       "      <td>3</td>\n",
       "      <td>8</td>\n",
       "      <td>7</td>\n",
       "      <td>3</td>\n",
       "      <td>0</td>\n",
       "      <td>3</td>\n",
       "    </tr>\n",
       "    <tr>\n",
       "      <td>4</td>\n",
       "      <td>27</td>\n",
       "      <td>0</td>\n",
       "      <td>Travel_Rarely</td>\n",
       "      <td>591</td>\n",
       "      <td>Research &amp; Development</td>\n",
       "      <td>2</td>\n",
       "      <td>1</td>\n",
       "      <td>Medical</td>\n",
       "      <td>1</td>\n",
       "      <td>7</td>\n",
       "      <td>...</td>\n",
       "      <td>4</td>\n",
       "      <td>1</td>\n",
       "      <td>6</td>\n",
       "      <td>3</td>\n",
       "      <td>3</td>\n",
       "      <td>2</td>\n",
       "      <td>2</td>\n",
       "      <td>2</td>\n",
       "      <td>2</td>\n",
       "      <td>4</td>\n",
       "    </tr>\n",
       "  </tbody>\n",
       "</table>\n",
       "<p>5 rows × 34 columns</p>\n",
       "</div>"
      ],
      "text/plain": [
       "   Age  Attrition     BusinessTravel  DailyRate              Department  \\\n",
       "0   41          1      Travel_Rarely       1102                   Sales   \n",
       "1   49          0  Travel_Frequently        279  Research & Development   \n",
       "2   37          1      Travel_Rarely       1373  Research & Development   \n",
       "3   33          0  Travel_Frequently       1392  Research & Development   \n",
       "4   27          0      Travel_Rarely        591  Research & Development   \n",
       "\n",
       "   DistanceFromHome  Education EducationField  EmployeeCount  EmployeeNumber  \\\n",
       "0                 1          2  Life Sciences              1               1   \n",
       "1                 8          1  Life Sciences              1               2   \n",
       "2                 2          2          Other              1               4   \n",
       "3                 3          4  Life Sciences              1               5   \n",
       "4                 2          1        Medical              1               7   \n",
       "\n",
       "   ...  RelationshipSatisfaction StockOptionLevel  TotalWorkingYears  \\\n",
       "0  ...                         1                0                  8   \n",
       "1  ...                         4                1                 10   \n",
       "2  ...                         2                0                  7   \n",
       "3  ...                         3                0                  8   \n",
       "4  ...                         4                1                  6   \n",
       "\n",
       "   TrainingTimesLastYear  WorkLifeBalance YearsAtCompany  YearsInCurrentRole  \\\n",
       "0                      0                1              6                   4   \n",
       "1                      3                3             10                   7   \n",
       "2                      3                3              0                   0   \n",
       "3                      3                3              8                   7   \n",
       "4                      3                3              2                   2   \n",
       "\n",
       "  YearsSinceLastPromotion  YearsWithCurrManager  ID  \n",
       "0                       0                     5   0  \n",
       "1                       1                     7   1  \n",
       "2                       0                     0   2  \n",
       "3                       3                     0   3  \n",
       "4                       2                     2   4  \n",
       "\n",
       "[5 rows x 34 columns]"
      ]
     },
     "execution_count": 119,
     "metadata": {},
     "output_type": "execute_result"
    }
   ],
   "source": [
    "df.head()"
   ]
  },
  {
   "cell_type": "markdown",
   "metadata": {
    "colab_type": "text",
    "id": "aiByk21xYXod"
   },
   "source": [
    "## Instructions:\n",
    "\n",
    "* You are required to use a classifier, which can predict the `Attrition` for the employees. \n",
    "* Before implementing any model, you will have to apply suitable encoding to the features and implement exploratory data analysis to know your data better. \n",
    "* You can either define your own custom-made classifer or select classifier(s) available in the `scikit-learn`.\n",
    "* You are supposed to implement a minimum of three classifiers (e.g.  `RandomForestClassifier`, `XGBClassifier`, `DecisionTreeClassifier`, `KNeighborsClassifier`, etc.) and evaluate which one is giving the best peformance. \n",
    "* For each of the classifier,  report the accuracy, precision, recall, roc curve, etc. "
   ]
  },
  {
   "cell_type": "code",
   "execution_count": 120,
   "metadata": {},
   "outputs": [],
   "source": [
    "#Importing Machine Learning libraries\n",
    "from xgboost import XGBClassifier\n",
    "import xgboost as xgb\n",
    "from sklearn.ensemble import AdaBoostClassifier, RandomForestRegressor, RandomForestClassifier\n",
    "from sklearn.neighbors import KNeighborsClassifier\n",
    "from sklearn.tree import DecisionTreeClassifier\n",
    "from sklearn.model_selection import train_test_split, StratifiedKFold, GridSearchCV \n",
    "from sklearn.metrics import mean_absolute_error, accuracy_score, confusion_matrix, classification_report, roc_auc_score, roc_curve \n",
    "from sklearn.preprocessing import StandardScaler\n",
    "from sklearn.impute import SimpleImputer"
   ]
  },
  {
   "cell_type": "markdown",
   "metadata": {},
   "source": [
    "### Exploratory Data Analysis"
   ]
  },
  {
   "cell_type": "code",
   "execution_count": 121,
   "metadata": {},
   "outputs": [
    {
     "name": "stdout",
     "output_type": "stream",
     "text": [
      "<class 'pandas.core.frame.DataFrame'>\n",
      "RangeIndex: 1028 entries, 0 to 1027\n",
      "Data columns (total 34 columns):\n",
      "Age                         1028 non-null int64\n",
      "Attrition                   1028 non-null int64\n",
      "BusinessTravel              1028 non-null object\n",
      "DailyRate                   1028 non-null int64\n",
      "Department                  1028 non-null object\n",
      "DistanceFromHome            1028 non-null int64\n",
      "Education                   1028 non-null int64\n",
      "EducationField              1028 non-null object\n",
      "EmployeeCount               1028 non-null int64\n",
      "EmployeeNumber              1028 non-null int64\n",
      "EnvironmentSatisfaction     1028 non-null int64\n",
      "Gender                      1028 non-null object\n",
      "HourlyRate                  1028 non-null int64\n",
      "JobInvolvement              1028 non-null int64\n",
      "JobLevel                    1028 non-null int64\n",
      "JobRole                     1028 non-null object\n",
      "JobSatisfaction             1028 non-null int64\n",
      "MaritalStatus               1028 non-null object\n",
      "MonthlyIncome               1028 non-null int64\n",
      "MonthlyRate                 1028 non-null int64\n",
      "NumCompaniesWorked          1028 non-null int64\n",
      "OverTime                    1028 non-null object\n",
      "PercentSalaryHike           1028 non-null int64\n",
      "PerformanceRating           1028 non-null int64\n",
      "RelationshipSatisfaction    1028 non-null int64\n",
      "StockOptionLevel            1028 non-null int64\n",
      "TotalWorkingYears           1028 non-null int64\n",
      "TrainingTimesLastYear       1028 non-null int64\n",
      "WorkLifeBalance             1028 non-null int64\n",
      "YearsAtCompany              1028 non-null int64\n",
      "YearsInCurrentRole          1028 non-null int64\n",
      "YearsSinceLastPromotion     1028 non-null int64\n",
      "YearsWithCurrManager        1028 non-null int64\n",
      "ID                          1028 non-null int64\n",
      "dtypes: int64(27), object(7)\n",
      "memory usage: 273.2+ KB\n"
     ]
    }
   ],
   "source": [
    "df.info()"
   ]
  },
  {
   "cell_type": "code",
   "execution_count": 122,
   "metadata": {},
   "outputs": [
    {
     "data": {
      "text/plain": [
       "Age                         0\n",
       "Attrition                   0\n",
       "BusinessTravel              0\n",
       "DailyRate                   0\n",
       "Department                  0\n",
       "DistanceFromHome            0\n",
       "Education                   0\n",
       "EducationField              0\n",
       "EmployeeCount               0\n",
       "EmployeeNumber              0\n",
       "EnvironmentSatisfaction     0\n",
       "Gender                      0\n",
       "HourlyRate                  0\n",
       "JobInvolvement              0\n",
       "JobLevel                    0\n",
       "JobRole                     0\n",
       "JobSatisfaction             0\n",
       "MaritalStatus               0\n",
       "MonthlyIncome               0\n",
       "MonthlyRate                 0\n",
       "NumCompaniesWorked          0\n",
       "OverTime                    0\n",
       "PercentSalaryHike           0\n",
       "PerformanceRating           0\n",
       "RelationshipSatisfaction    0\n",
       "StockOptionLevel            0\n",
       "TotalWorkingYears           0\n",
       "TrainingTimesLastYear       0\n",
       "WorkLifeBalance             0\n",
       "YearsAtCompany              0\n",
       "YearsInCurrentRole          0\n",
       "YearsSinceLastPromotion     0\n",
       "YearsWithCurrManager        0\n",
       "ID                          0\n",
       "dtype: int64"
      ]
     },
     "execution_count": 122,
     "metadata": {},
     "output_type": "execute_result"
    }
   ],
   "source": [
    "df.isna().sum()"
   ]
  },
  {
   "cell_type": "code",
   "execution_count": 123,
   "metadata": {},
   "outputs": [
    {
     "data": {
      "text/plain": [
       "Index(['Age', 'Attrition', 'BusinessTravel', 'DailyRate', 'Department',\n",
       "       'DistanceFromHome', 'Education', 'EducationField', 'EmployeeCount',\n",
       "       'EmployeeNumber', 'EnvironmentSatisfaction', 'Gender', 'HourlyRate',\n",
       "       'JobInvolvement', 'JobLevel', 'JobRole', 'JobSatisfaction',\n",
       "       'MaritalStatus', 'MonthlyIncome', 'MonthlyRate', 'NumCompaniesWorked',\n",
       "       'OverTime', 'PercentSalaryHike', 'PerformanceRating',\n",
       "       'RelationshipSatisfaction', 'StockOptionLevel', 'TotalWorkingYears',\n",
       "       'TrainingTimesLastYear', 'WorkLifeBalance', 'YearsAtCompany',\n",
       "       'YearsInCurrentRole', 'YearsSinceLastPromotion', 'YearsWithCurrManager',\n",
       "       'ID'],\n",
       "      dtype='object')"
      ]
     },
     "execution_count": 123,
     "metadata": {},
     "output_type": "execute_result"
    }
   ],
   "source": [
    "df.columns"
   ]
  },
  {
   "cell_type": "code",
   "execution_count": 124,
   "metadata": {},
   "outputs": [
    {
     "data": {
      "text/plain": [
       "0    856\n",
       "1    172\n",
       "Name: Attrition, dtype: int64"
      ]
     },
     "execution_count": 124,
     "metadata": {},
     "output_type": "execute_result"
    }
   ],
   "source": [
    "df['Attrition'].value_counts()"
   ]
  },
  {
   "cell_type": "code",
   "execution_count": 125,
   "metadata": {},
   "outputs": [
    {
     "name": "stdout",
     "output_type": "stream",
     "text": [
      "      Age  Attrition  DailyRate  DistanceFromHome  Education  EmployeeCount  \\\n",
      "0      41          1       1102                 1          2              1   \n",
      "1      49          0        279                 8          1              1   \n",
      "2      37          1       1373                 2          2              1   \n",
      "3      33          0       1392                 3          4              1   \n",
      "4      27          0        591                 2          1              1   \n",
      "...   ...        ...        ...               ...        ...            ...   \n",
      "1023   56          0       1255                 1          2              1   \n",
      "1024   47          0        359                 2          4              1   \n",
      "1025   24          0       1476                 4          1              1   \n",
      "1026   32          0        601                 7          5              1   \n",
      "1027   34          0        401                 1          3              1   \n",
      "\n",
      "      EmployeeNumber  EnvironmentSatisfaction  HourlyRate  JobInvolvement  \\\n",
      "0                  1                        2          94               3   \n",
      "1                  2                        3          61               2   \n",
      "2                  4                        4          92               2   \n",
      "3                  5                        4          56               3   \n",
      "4                  7                        1          40               3   \n",
      "...              ...                      ...         ...             ...   \n",
      "1023            1441                        1          90               3   \n",
      "1024            1443                        1          82               3   \n",
      "1025            1445                        4          42               3   \n",
      "1026            1446                        4          97               3   \n",
      "1027            1447                        4          86               2   \n",
      "\n",
      "      ...  RelationshipSatisfaction  StockOptionLevel  TotalWorkingYears  \\\n",
      "0     ...                         1                 0                  8   \n",
      "1     ...                         4                 1                 10   \n",
      "2     ...                         2                 0                  7   \n",
      "3     ...                         3                 0                  8   \n",
      "4     ...                         4                 1                  6   \n",
      "...   ...                       ...               ...                ...   \n",
      "1023  ...                         4                 1                  5   \n",
      "1024  ...                         2                 2                 26   \n",
      "1025  ...                         3                 2                  5   \n",
      "1026  ...                         3                 1                  7   \n",
      "1027  ...                         1                 1                  7   \n",
      "\n",
      "      TrainingTimesLastYear  WorkLifeBalance  YearsAtCompany  \\\n",
      "0                         0                1               6   \n",
      "1                         3                3              10   \n",
      "2                         3                3               0   \n",
      "3                         3                3               8   \n",
      "4                         3                3               2   \n",
      "...                     ...              ...             ...   \n",
      "1023                      3                4               3   \n",
      "1024                      2                4              20   \n",
      "1025                      3                3               5   \n",
      "1026                      3                2               4   \n",
      "1027                      2                2               5   \n",
      "\n",
      "      YearsInCurrentRole  YearsSinceLastPromotion  YearsWithCurrManager    ID  \n",
      "0                      4                        0                     5     0  \n",
      "1                      7                        1                     7     1  \n",
      "2                      0                        0                     0     2  \n",
      "3                      7                        3                     0     3  \n",
      "4                      2                        2                     2     4  \n",
      "...                  ...                      ...                   ...   ...  \n",
      "1023                   2                        1                     0  1023  \n",
      "1024                  17                        5                     6  1024  \n",
      "1025                   4                        0                     3  1025  \n",
      "1026                   3                        0                     3  1026  \n",
      "1027                   4                        0                     2  1027  \n",
      "\n",
      "[1028 rows x 27 columns]\n",
      "         BusinessTravel              Department EducationField  Gender  \\\n",
      "0         Travel_Rarely                   Sales  Life Sciences  Female   \n",
      "1     Travel_Frequently  Research & Development  Life Sciences    Male   \n",
      "2         Travel_Rarely  Research & Development          Other    Male   \n",
      "3     Travel_Frequently  Research & Development  Life Sciences  Female   \n",
      "4         Travel_Rarely  Research & Development        Medical    Male   \n",
      "...                 ...                     ...            ...     ...   \n",
      "1023      Travel_Rarely  Research & Development  Life Sciences  Female   \n",
      "1024      Travel_Rarely  Research & Development        Medical  Female   \n",
      "1025      Travel_Rarely                   Sales        Medical  Female   \n",
      "1026      Travel_Rarely                   Sales      Marketing    Male   \n",
      "1027      Travel_Rarely  Research & Development  Life Sciences  Female   \n",
      "\n",
      "                    JobRole MaritalStatus OverTime  \n",
      "0           Sales Executive        Single      Yes  \n",
      "1        Research Scientist       Married       No  \n",
      "2     Laboratory Technician        Single      Yes  \n",
      "3        Research Scientist       Married      Yes  \n",
      "4     Laboratory Technician       Married       No  \n",
      "...                     ...           ...      ...  \n",
      "1023     Research Scientist       Married       No  \n",
      "1024      Research Director       Married       No  \n",
      "1025        Sales Executive       Married      Yes  \n",
      "1026        Sales Executive       Married       No  \n",
      "1027  Laboratory Technician       Married       No  \n",
      "\n",
      "[1028 rows x 7 columns]\n"
     ]
    }
   ],
   "source": [
    "print(df.select_dtypes(np.number))\n",
    "print(df.select_dtypes(object))"
   ]
  },
  {
   "cell_type": "markdown",
   "metadata": {},
   "source": [
    "##### Visualization"
   ]
  },
  {
   "cell_type": "code",
   "execution_count": 126,
   "metadata": {},
   "outputs": [
    {
     "data": {
      "image/png": "[encoded data removed]",
      "text/plain": [
       "<Figure size 432x288 with 1 Axes>"
      ]
     },
     "metadata": {
      "needs_background": "light"
     },
     "output_type": "display_data"
    },
    {
     "data": {
      "image/png": "[encoded data removed]",
      "text/plain": [
       "<Figure size 1080x1080 with 30 Axes>"
      ]
     },
     "metadata": {
      "needs_background": "light"
     },
     "output_type": "display_data"
    }
   ],
   "source": [
    "sns.countplot(df.Attrition)\n",
    "plt.show()\n",
    "df.hist(figsize=(15,15))\n",
    "plt.show()"
   ]
  },
  {
   "cell_type": "markdown",
   "metadata": {},
   "source": [
    "### RandomForestClassifier"
   ]
  },
  {
   "cell_type": "code",
   "execution_count": 127,
   "metadata": {},
   "outputs": [],
   "source": [
    "#Features and Labels separation\n",
    "num = df.select_dtypes(np.number)\n",
    "x = num.drop(['Attrition'], axis=1)\n",
    "y = df['Attrition']"
   ]
  },
  {
   "cell_type": "code",
   "execution_count": 128,
   "metadata": {},
   "outputs": [],
   "source": [
    "#Training and testing set split\n",
    "X_train, X_test, y_train, y_test = train_test_split(x, y, train_size=0.8, random_state=123)"
   ]
  },
  {
   "cell_type": "code",
   "execution_count": 129,
   "metadata": {},
   "outputs": [],
   "source": [
    "#Feature Scaling\n",
    "scaler = StandardScaler()\n",
    "X_train = scaler.fit_transform(X_train)\n",
    "X_test = scaler.transform(X_test)"
   ]
  },
  {
   "cell_type": "code",
   "execution_count": 130,
   "metadata": {},
   "outputs": [
    {
     "data": {
      "text/plain": [
       "RandomForestClassifier(bootstrap=True, class_weight=None, criterion='gini',\n",
       "                       max_depth=None, max_features='auto', max_leaf_nodes=None,\n",
       "                       min_impurity_decrease=0.0, min_impurity_split=None,\n",
       "                       min_samples_leaf=1, min_samples_split=2,\n",
       "                       min_weight_fraction_leaf=0.0, n_estimators=20,\n",
       "                       n_jobs=None, oob_score=False, random_state=111,\n",
       "                       verbose=0, warm_start=False)"
      ]
     },
     "execution_count": 130,
     "metadata": {},
     "output_type": "execute_result"
    }
   ],
   "source": [
    "#Building the classifier\n",
    "rfc = RandomForestClassifier(n_estimators=20, random_state=111)\n",
    "rfc.fit(X_train, y_train)"
   ]
  },
  {
   "cell_type": "code",
   "execution_count": 131,
   "metadata": {},
   "outputs": [],
   "source": [
    "#Prediction of test set\n",
    "pred = rfc.predict(X_test)"
   ]
  },
  {
   "cell_type": "code",
   "execution_count": 165,
   "metadata": {},
   "outputs": [
    {
     "name": "stdout",
     "output_type": "stream",
     "text": [
      "Accuracy on training data is  99.7566909975669 %\n",
      "Accuracy on testing data is  84.95 %\n"
     ]
    }
   ],
   "source": [
    "#Accuracy results\n",
    "predx = rfc.predict(X_train)\n",
    "acc_x = accuracy_score(y_train, predx)\n",
    "print(\"Accuracy on training data is \", (acc_x*100), \"%\")\n",
    "predictions = rfc.predict(X_test)\n",
    "accuracy = accuracy_score(y_test, predictions)\n",
    "print(\"Accuracy on testing data is \", np.round(accuracy*100, 2), '%')"
   ]
  },
  {
   "cell_type": "code",
   "execution_count": 133,
   "metadata": {},
   "outputs": [
    {
     "name": "stdout",
     "output_type": "stream",
     "text": [
      "[[170   2]\n",
      " [ 29   5]]\n",
      "              precision    recall  f1-score   support\n",
      "\n",
      "           0       0.85      0.99      0.92       172\n",
      "           1       0.71      0.15      0.24        34\n",
      "\n",
      "    accuracy                           0.85       206\n",
      "   macro avg       0.78      0.57      0.58       206\n",
      "weighted avg       0.83      0.85      0.81       206\n",
      "\n"
     ]
    }
   ],
   "source": [
    "#Building Confusion Matrix\n",
    "conf_mat = confusion_matrix(y_test, pred)\n",
    "print(conf_mat)\n",
    "print(classification_report(y_test, pred))"
   ]
  },
  {
   "cell_type": "code",
   "execution_count": 134,
   "metadata": {},
   "outputs": [
    {
     "data": {
      "image/png": "[encoded data removed]",
      "text/plain": [
       "<Figure size 432x288 with 1 Axes>"
      ]
     },
     "metadata": {
      "needs_background": "light"
     },
     "output_type": "display_data"
    }
   ],
   "source": [
    "#ROC plot\n",
    "prob = rfc.predict_proba(X_test)  \n",
    "prob = prob[:, 1] \n",
    "fper, tper, thresholds = roc_curve(y_test, prob) \n",
    "plt.plot(fper, tper)\n",
    "plt.plot([0,1], [0,1], 'k--')\n",
    "plt.xlabel('False Positive Rate')\n",
    "plt.ylabel('True Positive Rate')\n",
    "plt.title('Random FOREST ROC curve')\n",
    "#show the plot\n",
    "plt.show()"
   ]
  },
  {
   "cell_type": "markdown",
   "metadata": {},
   "source": [
    "### XGB Classifier"
   ]
  },
  {
   "cell_type": "code",
   "execution_count": 167,
   "metadata": {},
   "outputs": [],
   "source": [
    "#Features and Labels separation\n",
    "x = num.drop(['Attrition'], axis=1)\n",
    "y = df['Attrition']"
   ]
  },
  {
   "cell_type": "code",
   "execution_count": 168,
   "metadata": {},
   "outputs": [],
   "source": [
    "#Train and test sets data split\n",
    "X_train, X_test, y_train, y_test = train_test_split(x, y, train_size=0.8, random_state=123)"
   ]
  },
  {
   "cell_type": "code",
   "execution_count": 169,
   "metadata": {},
   "outputs": [
    {
     "data": {
      "text/plain": [
       "XGBClassifier(base_score=0.5, booster='gbtree', colsample_bylevel=1,\n",
       "              colsample_bynode=1, colsample_bytree=1, gamma=0, gpu_id=-1,\n",
       "              importance_type='gain', interaction_constraints='',\n",
       "              learning_rate=0.01, max_delta_step=0, max_depth=6,\n",
       "              min_child_weight=1, missing=nan, monotone_constraints='()',\n",
       "              n_estimators=100, n_jobs=0, num_parallel_tree=1,\n",
       "              objective='binary:logistic', random_state=0, reg_alpha=0,\n",
       "              reg_lambda=1, scale_pos_weight=1, subsample=1,\n",
       "              tree_method='exact', validate_parameters=1, verbosity=None)"
      ]
     },
     "execution_count": 169,
     "metadata": {},
     "output_type": "execute_result"
    }
   ],
   "source": [
    "#Building the classifier and fitting it to training set\n",
    "xgbc = xgb.XGBClassifier(learning_rate=0.01)\n",
    "xgbc.fit(X_train, y_train)"
   ]
  },
  {
   "cell_type": "code",
   "execution_count": 170,
   "metadata": {},
   "outputs": [
    {
     "name": "stdout",
     "output_type": "stream",
     "text": [
      "Accuracy on training data is  91.0 %\n",
      "Accuracy on testing data is  82.0 %\n"
     ]
    }
   ],
   "source": [
    "#Results and accuracy on the training set \n",
    "predx = xgbc.predict(X_train)\n",
    "acc_x = accuracy_score(y_train, predx)\n",
    "print(\"Accuracy on training data is \", np.round(acc_x*100), \"%\")\n",
    "#Results and accuracy on the testing set \n",
    "predy = xgbc.predict(X_test)\n",
    "acc_y = accuracy_score(y_test, predy)\n",
    "print(\"Accuracy on testing data is \", np.round(acc_y*100), \"%\")"
   ]
  },
  {
   "cell_type": "code",
   "execution_count": 140,
   "metadata": {},
   "outputs": [
    {
     "name": "stdout",
     "output_type": "stream",
     "text": [
      "[[165   7]\n",
      " [ 30   4]]\n",
      "              precision    recall  f1-score   support\n",
      "\n",
      "           0       0.85      0.96      0.90       172\n",
      "           1       0.36      0.12      0.18        34\n",
      "\n",
      "    accuracy                           0.82       206\n",
      "   macro avg       0.60      0.54      0.54       206\n",
      "weighted avg       0.77      0.82      0.78       206\n",
      "\n"
     ]
    }
   ],
   "source": [
    "#Building the confusion matrix\n",
    "conf_mat = confusion_matrix(y_test, predy)\n",
    "print(conf_mat)\n",
    "print(classification_report(y_test, predy))"
   ]
  },
  {
   "cell_type": "code",
   "execution_count": 141,
   "metadata": {},
   "outputs": [
    {
     "data": {
      "image/png": "[encoded data removed]",
      "text/plain": [
       "<Figure size 432x288 with 1 Axes>"
      ]
     },
     "metadata": {
      "needs_background": "light"
     },
     "output_type": "display_data"
    }
   ],
   "source": [
    "#ROC Curve\n",
    "from sklearn.metrics import roc_curve  \n",
    "prob = xgbc.predict_proba(X_test)  \n",
    "prob = prob[:, 1] \n",
    "fper, tper, thresholds = roc_curve(y_test, prob) \n",
    "plt.plot(fper, tper)\n",
    "plt.plot([0,1], [0,1], 'k--')\n",
    "plt.xlabel('False Positive Rate')\n",
    "plt.ylabel('True Positive Rate')\n",
    "plt.title('XGBoost ROC curve')\n",
    "# show the plot\n",
    "plt.show()"
   ]
  },
  {
   "cell_type": "markdown",
   "metadata": {},
   "source": [
    "### Decision Tree "
   ]
  },
  {
   "cell_type": "code",
   "execution_count": 142,
   "metadata": {},
   "outputs": [],
   "source": [
    "#Features and Labels separation\n",
    "x = num.drop(['Attrition'], axis=1)\n",
    "y = df['Attrition']"
   ]
  },
  {
   "cell_type": "code",
   "execution_count": 143,
   "metadata": {},
   "outputs": [],
   "source": [
    "#Train and test sets data split\n",
    "X_train, X_test, y_train, y_test = train_test_split(x, y, train_size=0.8, random_state=123)"
   ]
  },
  {
   "cell_type": "code",
   "execution_count": 144,
   "metadata": {},
   "outputs": [],
   "source": [
    "#Feature Scaling\n",
    "scaler = StandardScaler()\n",
    "X_train = scaler.fit_transform(X_train)\n",
    "X_test = scaler.transform(X_test)"
   ]
  },
  {
   "cell_type": "code",
   "execution_count": 145,
   "metadata": {},
   "outputs": [
    {
     "data": {
      "text/plain": [
       "DecisionTreeClassifier(class_weight=None, criterion='gini', max_depth=None,\n",
       "                       max_features=None, max_leaf_nodes=None,\n",
       "                       min_impurity_decrease=0.0, min_impurity_split=None,\n",
       "                       min_samples_leaf=1, min_samples_split=2,\n",
       "                       min_weight_fraction_leaf=0.0, presort=False,\n",
       "                       random_state=0, splitter='best')"
      ]
     },
     "execution_count": 145,
     "metadata": {},
     "output_type": "execute_result"
    }
   ],
   "source": [
    "#Building the classifier and fitting to the training set\n",
    "dtc = DecisionTreeClassifier(random_state = 0)\n",
    "dtc.fit(X_train, y_train)"
   ]
  },
  {
   "cell_type": "code",
   "execution_count": 146,
   "metadata": {},
   "outputs": [],
   "source": [
    "#Predicting the test set results\n",
    "predy = dtc.predict(X_test)"
   ]
  },
  {
   "cell_type": "code",
   "execution_count": 147,
   "metadata": {},
   "outputs": [
    {
     "name": "stdout",
     "output_type": "stream",
     "text": [
      "Accuracy on training data is  100.0 %\n",
      "Accuracy on testing data is  76.7 %\n"
     ]
    }
   ],
   "source": [
    "#Results and accuracy\n",
    "predx = dtc.predict(X_train)\n",
    "acc_x = accuracy_score(y_train, predx)\n",
    "print(\"Accuracy on training data is \", (acc_x*100), \"%\")\n",
    "predictions = dtc.predict(X_test)\n",
    "# accuracy score\n",
    "accuracy = accuracy_score(y_test, predictions)\n",
    "print(\"Accuracy on testing data is \", np.round(accuracy*100, 2), '%')"
   ]
  },
  {
   "cell_type": "code",
   "execution_count": 148,
   "metadata": {},
   "outputs": [
    {
     "name": "stdout",
     "output_type": "stream",
     "text": [
      "[[146  26]\n",
      " [ 22  12]]\n",
      "              precision    recall  f1-score   support\n",
      "\n",
      "           0       0.87      0.85      0.86       172\n",
      "           1       0.32      0.35      0.33        34\n",
      "\n",
      "    accuracy                           0.77       206\n",
      "   macro avg       0.59      0.60      0.60       206\n",
      "weighted avg       0.78      0.77      0.77       206\n",
      "\n"
     ]
    }
   ],
   "source": [
    "#Building the Confusion Matrix\n",
    "conf_mat = confusion_matrix(y_test, predy)\n",
    "print(conf_mat)\n",
    "print(classification_report(y_test, predy))"
   ]
  },
  {
   "cell_type": "code",
   "execution_count": 149,
   "metadata": {},
   "outputs": [
    {
     "data": {
      "image/png": "[encoded data removed]",
      "text/plain": [
       "<Figure size 432x288 with 1 Axes>"
      ]
     },
     "metadata": {
      "needs_background": "light"
     },
     "output_type": "display_data"
    }
   ],
   "source": [
    "#ROC Curve\n",
    "prob = dtc.predict_proba(X_test)  \n",
    "prob = prob[:, 1] \n",
    "fper, tper, thresholds = roc_curve(y_test, prob) \n",
    "plt.plot(fper, tper)\n",
    "plt.plot([0,1], [0,1], 'k--')\n",
    "plt.xlabel('False Positive Rate')\n",
    "plt.ylabel('True Positive Rate')\n",
    "plt.title('Decision Tree ROC curve')\n",
    "# show the plot\n",
    "plt.show()"
   ]
  },
  {
   "cell_type": "markdown",
   "metadata": {},
   "source": [
    "### K nearest neighbours"
   ]
  },
  {
   "cell_type": "code",
   "execution_count": 150,
   "metadata": {},
   "outputs": [],
   "source": [
    "#Features and Labels separation\n",
    "x = num.drop(['Attrition'], axis=1)\n",
    "y = df['Attrition']"
   ]
  },
  {
   "cell_type": "code",
   "execution_count": 151,
   "metadata": {},
   "outputs": [],
   "source": [
    "#Train and test sets data split\n",
    "X_train, X_test, y_train, y_test = train_test_split(x, y, train_size=0.8, random_state=123)"
   ]
  },
  {
   "cell_type": "code",
   "execution_count": 152,
   "metadata": {},
   "outputs": [],
   "source": [
    "#Feature Scaling\n",
    "scaler = StandardScaler()\n",
    "X_train = scaler.fit_transform(X_train)\n",
    "X_test = scaler.transform(X_test)"
   ]
  },
  {
   "cell_type": "code",
   "execution_count": 153,
   "metadata": {},
   "outputs": [
    {
     "data": {
      "text/plain": [
       "KNeighborsClassifier(algorithm='auto', leaf_size=30, metric='minkowski',\n",
       "                     metric_params=None, n_jobs=None, n_neighbors=5, p=2,\n",
       "                     weights='uniform')"
      ]
     },
     "execution_count": 153,
     "metadata": {},
     "output_type": "execute_result"
    }
   ],
   "source": [
    "knn = KNeighborsClassifier(n_neighbors = 5, p = 2)\n",
    "knn.fit(X_train, y_train)"
   ]
  },
  {
   "cell_type": "code",
   "execution_count": 156,
   "metadata": {},
   "outputs": [],
   "source": [
    "# Predicting the test set results\n",
    "pred_y = knn.predict(X_test)"
   ]
  },
  {
   "cell_type": "code",
   "execution_count": 162,
   "metadata": {},
   "outputs": [
    {
     "name": "stdout",
     "output_type": "stream",
     "text": [
      "Accuracy on training data is  88.0 %\n",
      "Accuracy on testing data is  84.47 %\n"
     ]
    }
   ],
   "source": [
    "#Results and accuracy\n",
    "predx = knn.predict(X_train)\n",
    "acc_x = accuracy_score(y_train, predx)\n",
    "print(\"Accuracy on training data is \", np.round(acc_x*100), \"%\")\n",
    "predictions = knn.predict(X_test)\n",
    "accuracy = accuracy_score(y_test, predictions)\n",
    "print(\"Accuracy on testing data is \", np.round(accuracy*100, 2), '%')"
   ]
  },
  {
   "cell_type": "code",
   "execution_count": 159,
   "metadata": {},
   "outputs": [
    {
     "name": "stdout",
     "output_type": "stream",
     "text": [
      "[[170   2]\n",
      " [ 30   4]]\n",
      "              precision    recall  f1-score   support\n",
      "\n",
      "           0       0.85      0.99      0.91       172\n",
      "           1       0.67      0.12      0.20        34\n",
      "\n",
      "    accuracy                           0.84       206\n",
      "   macro avg       0.76      0.55      0.56       206\n",
      "weighted avg       0.82      0.84      0.80       206\n",
      "\n"
     ]
    }
   ],
   "source": [
    "#Building the Confusion Matrix\n",
    "conf_mat = confusion_matrix(y_test, pred_y)\n",
    "print(conf_mat)\n",
    "print(classification_report(y_test, pred_y))"
   ]
  },
  {
   "cell_type": "code",
   "execution_count": 164,
   "metadata": {},
   "outputs": [
    {
     "data": {
      "image/png": "[encoded data removed]",
      "text/plain": [
       "<Figure size 432x288 with 1 Axes>"
      ]
     },
     "metadata": {
      "needs_background": "light"
     },
     "output_type": "display_data"
    }
   ],
   "source": [
    "#ROC Curve\n",
    "probs = knn.predict_proba(X_test)  \n",
    "probs = probs[:, 1] \n",
    "fper, tper, thresholds = roc_curve(y_test, probs) \n",
    "plt.plot(fper, tper)\n",
    "plt.plot([0,1], [0,1], 'k--')\n",
    "plt.xlabel('False Positive Rate')\n",
    "plt.ylabel('True Positive Rate')\n",
    "plt.title('KNN ROC curve')\n",
    "plt.show()"
   ]
  },
  {
   "cell_type": "markdown",
   "metadata": {
    "colab_type": "text",
    "id": "Z6Z7spcObKvd"
   },
   "source": [
    "## Resources:\n",
    "\n",
    "* You might want to refer to the [lecture notebook](https://github.com/shala2020/shala2020.github.io/tree/master/Lecture_Materials/Google_Colab_Notebooks/MachineLearning/L1) for revising the concepts.\n",
    "* You can also refer to the pre-work material for the first lecture on ML.  "
   ]
  }
 ],
 "metadata": {
  "colab": {
   "collapsed_sections": [],
   "name": "ML_L1_Assignment.ipynb",
   "provenance": []
  },
  "kernelspec": {
   "display_name": "Python 3",
   "language": "python",
   "name": "python3"
  },
  "language_info": {
   "codemirror_mode": {
    "name": "ipython",
    "version": 3
   },
   "file_extension": ".py",
   "mimetype": "text/x-python",
   "name": "python",
   "nbconvert_exporter": "python",
   "pygments_lexer": "ipython3",
   "version": "3.7.4"
  }
 },
 "nbformat": 4,
 "nbformat_minor": 1
}
