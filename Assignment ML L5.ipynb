{
 "cells": [
  {
   "cell_type": "markdown",
   "metadata": {
    "colab_type": "text",
    "id": "arLDVfoh4rOg"
   },
   "source": [
    "# SVM"
   ]
  },
  {
   "cell_type": "code",
   "execution_count": 48,
   "metadata": {
    "colab": {},
    "colab_type": "code",
    "id": "MEEp0sf04pIP"
   },
   "outputs": [],
   "source": [
    "import numpy as np\n",
    "import matplotlib.pyplot as plt\n",
    "import random\n",
    "from numpy import linalg as LA"
   ]
  },
  {
   "cell_type": "markdown",
   "metadata": {
    "colab_type": "text",
    "id": "vJ2o5DL4478w"
   },
   "source": [
    "\n",
    "\n",
    "---\n",
    "\n",
    "\n",
    "**Generating Random linearly separable data**\n",
    "\n",
    "\n",
    "---\n",
    "\n"
   ]
  },
  {
   "cell_type": "code",
   "execution_count": 49,
   "metadata": {
    "colab": {},
    "colab_type": "code",
    "id": "UbaJAhdL5BLA"
   },
   "outputs": [],
   "source": [
    "data = [[np.random.rand(), np.random.rand()] for i in range(10)]\n",
    "\n",
    "for i, point in enumerate(data):\n",
    "    x, y = point\n",
    "    if 0.5*x - y + 0.25 > 0:\n",
    "        data[i].append(-1)\n",
    "    else:\n",
    "        data[i].append(1)"
   ]
  },
  {
   "cell_type": "markdown",
   "metadata": {
    "colab_type": "text",
    "id": "S3afrVhJ5FSS"
   },
   "source": [
    "\n",
    "\n",
    "---\n",
    "\n",
    "\n",
    "**Visualizing the above data**\n",
    "\n",
    "\n",
    "---\n",
    "\n"
   ]
  },
  {
   "cell_type": "code",
   "execution_count": 50,
   "metadata": {
    "colab": {
     "base_uri": "https://localhost:8080/",
     "height": 269
    },
    "colab_type": "code",
    "id": "6x0FkJik5LPi",
    "outputId": "7b77691f-8933-4895-d3de-01d761a9783e"
   },
   "outputs": [
    {
     "data": {
      "image/png": "[encoded data removed]",
      "text/plain": [
       "<Figure size 432x288 with 1 Axes>"
      ]
     },
     "metadata": {
      "needs_background": "light"
     },
     "output_type": "display_data"
    }
   ],
   "source": [
    "for x, y, l in data:\n",
    "    if l == 1: \n",
    "        clr = 'red'\n",
    "    else: \n",
    "        clr = 'blue'\n",
    "    plt.scatter(x, y, c=clr)\n",
    "    plt.xlim(0,1)\n",
    "    plt.ylim(0,1)"
   ]
  },
  {
   "cell_type": "markdown",
   "metadata": {
    "colab_type": "text",
    "id": "yXabL9FB5Qe1"
   },
   "source": [
    "\n",
    "\n",
    "---\n",
    "\n",
    "\n",
    "**Train a SVM classifier using gradient descent and return a Weight Matrix which is a numpy array of length (N + 1) where N is dimension of training samples. You can refer to Fig. 1 in [this](https://www.cs.huji.ac.il/~shais/papers/ShalevSiSrCo10.pdf) paper for implementation. You can add arguments to svm_function according to your implementation.**\n",
    "\n",
    "\n",
    "---\n",
    "\n"
   ]
  },
  {
   "cell_type": "code",
   "execution_count": 65,
   "metadata": {
    "colab": {},
    "colab_type": "code",
    "id": "LpSHX3lT5VDt"
   },
   "outputs": [],
   "source": [
    "def svm_function(x, y, epoch, l_rate):\n",
    "    Ones=np.ones((len(x),1))\n",
    "    x=np.append(x,Ones,axis=1)\n",
    "    w = np.zeros(len(x[0]))\n",
    "    for e in range(0,epoch):\n",
    "        i = random.choice(range(0,len(x)))\n",
    "        result = y[i]*np.dot(x[i], w)\n",
    "        if result < 1:\n",
    "            w = (1-(1/(e+1))) * w + (y[i] * x[i])/(l_rate*(e+1))\n",
    "        else:\n",
    "            w = (1-(1/(e+1)))*w\n",
    "        normt = 1/((np.sqrt(l_rate))*LA.norm(w))\n",
    "        if normt<1:\n",
    "            w = w*normt;\n",
    "    return w"
   ]
  },
  {
   "cell_type": "markdown",
   "metadata": {
    "colab_type": "text",
    "id": "-GMSHqOB5Y7n"
   },
   "source": [
    "\n",
    "\n",
    "---\n",
    "\n",
    "\n",
    "**Run SVM Classifier**\n",
    "\n",
    "\n",
    "---\n",
    "\n"
   ]
  },
  {
   "cell_type": "code",
   "execution_count": 66,
   "metadata": {
    "colab": {
     "base_uri": "https://localhost:8080/",
     "height": 34
    },
    "colab_type": "code",
    "id": "MY2AcFkZ5d2a",
    "outputId": "2ea06bf5-431f-43ac-85dc-30d8bcfc3e4c"
   },
   "outputs": [
    {
     "name": "stdout",
     "output_type": "stream",
     "text": [
      "[-2.54334926  5.26563671 -0.58235096]\n"
     ]
    }
   ],
   "source": [
    "data = np.asarray(data)\n",
    "X = data[:,:2]\n",
    "Y = data[:,2]\n",
    "w = svm_function(X, Y, 10000, 0.01)\n",
    "print(w)"
   ]
  },
  {
   "cell_type": "markdown",
   "metadata": {
    "colab_type": "text",
    "id": "4t6lPISE5h4e"
   },
   "source": [
    "# **Visualize the classifier**\n",
    "\n",
    "\n",
    "---\n",
    "\n",
    "Write a code to draw a lines corrosponding to 'w' vector you got as output from svm_function and for a line from which actual data was generated (0.5*x - y + 0.25). \n",
    "\n",
    "---\n",
    "\n"
   ]
  },
  {
   "cell_type": "code",
   "execution_count": 67,
   "metadata": {
    "colab": {},
    "colab_type": "code",
    "id": "wrCLTSVx5mBF"
   },
   "outputs": [
    {
     "data": {
      "image/png": "[encoded data removed]",
      "text/plain": [
       "<Figure size 432x288 with 1 Axes>"
      ]
     },
     "metadata": {
      "needs_background": "light"
     },
     "output_type": "display_data"
    }
   ],
   "source": [
    "a = -w[0]/w[1]\n",
    "b = -w[2]/w[1]\n",
    "xx = np.linspace(0, 1)\n",
    "yy = a * xx + b\n",
    "\n",
    "a1 = 0.5\n",
    "b1= 0.25\n",
    "yy1 = a1 * xx + b1\n",
    "\n",
    "fig = plt.figure()\n",
    "ax = plt.subplot(111)\n",
    "for x, y, l in data:\n",
    "    if l == 1: \n",
    "        clr = 'red'\n",
    "    else: \n",
    "        clr = 'blue'\n",
    "    ax.scatter(x, y, c=clr)\n",
    "ax.plot(xx,yy,label='Optimized hyperplane')\n",
    "ax.plot(xx,yy1,label='Original hyperplane')\n",
    "ax.legend()\n",
    "plt.show()"
   ]
  },
  {
   "cell_type": "markdown",
   "metadata": {
    "colab_type": "text",
    "id": "zSQ2B6IK7pRq"
   },
   "source": [
    "## Linearly Non-separable Data"
   ]
  },
  {
   "cell_type": "code",
   "execution_count": 68,
   "metadata": {
    "colab": {
     "base_uri": "https://localhost:8080/",
     "height": 279
    },
    "colab_type": "code",
    "id": "kZ5Mt_3Z73WS",
    "outputId": "029f902a-7aa7-418d-9658-f43d6b3f1b99"
   },
   "outputs": [
    {
     "data": {
      "image/png": "[encoded data removed]",
      "text/plain": [
       "<Figure size 432x288 with 1 Axes>"
      ]
     },
     "metadata": {
      "needs_background": "light"
     },
     "output_type": "display_data"
    }
   ],
   "source": [
    "from sklearn.datasets import make_circles\n",
    "from matplotlib import pyplot\n",
    "from pandas import DataFrame\n",
    "\n",
    "# generate 2d classification dataset\n",
    "X, y = make_circles(n_samples=100, noise=0.05)\n",
    "# scatter plot, dots colored by class value\n",
    "df = DataFrame(dict(x=X[:,0], y=X[:,1], label=y))\n",
    "colors = {0:'red', 1:'blue'}\n",
    "fig, ax = pyplot.subplots()\n",
    "grouped = df.groupby('label')\n",
    "for key, group in grouped:\n",
    "    group.plot(ax=ax, kind='scatter', x='x', y='y', label=key, color=colors[key])\n",
    "pyplot.show()"
   ]
  },
  {
   "cell_type": "markdown",
   "metadata": {
    "colab_type": "text",
    "id": "SDtuOIuy6xPL"
   },
   "source": [
    "\n",
    "\n",
    "---\n",
    "\n",
    "\n",
    "**Train a SVM classifier on the linearly non-separable data by appropriate features crafted from input data For linearly non-separable data, you need to transform the data in a space where it can be linearly seprable.\n",
    "These features can be exponential, polynomial, trignometric or any other function of actual input features.\n",
    "For example, if your input data is (x1, x2) you can have hand-crafted features as (sin(x1), cos(x1), cos(x2), x1-x2).\n",
    "Here you need to think of which hand-crafted features can be best suited for data given to you.\n",
    "Write a function to convert input features to hand-crafted features. Use these features to train a SVM using svm_function.\n",
    "Note that, if you choose to have L hand-crafted features, SVM will return L+1 dimensional 'w'.**\n",
    "\n",
    "\n",
    "---\n",
    "\n"
   ]
  },
  {
   "cell_type": "code",
   "execution_count": 74,
   "metadata": {
    "colab": {},
    "colab_type": "code",
    "id": "rZF4nHvz6-2I"
   },
   "outputs": [],
   "source": [
    "def Gaussian_kernel3d(x, mean1, mean2, mean3,  var1, var2, var3 ):\n",
    "    num_fetures=3\n",
    "    size = (len(x) , num_fetures)\n",
    "    F = np.zeros(size)\n",
    "    for i in range(0,len(x)):\n",
    "        F[i,0] = np.exp(-(((x[i,0]-mean1[0])**2) + ((x[i,1]-mean1[1])**2))/(var1))\n",
    "        F[i,1] = np.exp(-(((x[i,0]-mean2[0])**2) + ((x[i,1]-mean2[1])**2))/(var2))\n",
    "        F[i,1] = np.exp(-(((x[i,0]-mean3[0])**2) + ((x[i,1]-mean3[1])**2))/(var3))\n",
    "    return F  "
   ]
  },
  {
   "cell_type": "code",
   "execution_count": 75,
   "metadata": {},
   "outputs": [],
   "source": [
    "#Training\n",
    "X = X\n",
    "Y = y\n",
    "F = Gaussian_kernel3d(X, np.array([0.0,0.0]), np.array([0.0,0.0]),np.array([0.75,0.75]), 0.7, 1.0, 0.5 )\n",
    "\n",
    "#Run SVM Classifier\n",
    "w = svm_function(F, Y, 10000, 0.01)\n"
   ]
  },
  {
   "cell_type": "markdown",
   "metadata": {
    "colab_type": "text",
    "id": "k9RC8lVS81F8"
   },
   "source": [
    "\n",
    "\n",
    "---\n",
    "\n",
    "\n",
    "**Visualize the data points in the new feature space \"if possible\" to see whether they got separated or not.**\n",
    "\n",
    "\n",
    "---\n",
    "\n"
   ]
  },
  {
   "cell_type": "code",
   "execution_count": 76,
   "metadata": {
    "colab": {},
    "colab_type": "code",
    "id": "T_M3rNKF7g-W"
   },
   "outputs": [
    {
     "data": {
      "image/png": "[encoded data removed]",
      "text/plain": [
       "<Figure size 432x288 with 1 Axes>"
      ]
     },
     "metadata": {
      "needs_background": "light"
     },
     "output_type": "display_data"
    }
   ],
   "source": [
    "# This import registers the 3D projection\n",
    "from mpl_toolkits.mplot3d import Axes3D  # noqa: F401 unused import\n",
    "\n",
    "# Fixing random state for reproducibility\n",
    "np.random.seed(19680801)\n",
    "\n",
    "fig = plt.figure()\n",
    "ax = fig.add_subplot(111, projection='3d')\n",
    "Y = Y.reshape((len(F),1))\n",
    "F=np.append(F,Y,axis=1)\n",
    "#Visualizing the above data\n",
    "for x, y,z, l in F:\n",
    "    if l == 1: \n",
    "        clr = 'red'\n",
    "    else: \n",
    "        clr = 'blue'\n",
    "    ax.scatter(x, y,z, c=clr)\n",
    "\n"
   ]
  }
 ],
 "metadata": {
  "colab": {
   "name": "SVM_linear_kernelized_Assignment.ipynb",
   "provenance": []
  },
  "kernelspec": {
   "display_name": "Python 3",
   "language": "python",
   "name": "python3"
  },
  "language_info": {
   "codemirror_mode": {
    "name": "ipython",
    "version": 3
   },
   "file_extension": ".py",
   "mimetype": "text/x-python",
   "name": "python",
   "nbconvert_exporter": "python",
   "pygments_lexer": "ipython3",
   "version": "3.7.4"
  }
 },
 "nbformat": 4,
 "nbformat_minor": 1
}
