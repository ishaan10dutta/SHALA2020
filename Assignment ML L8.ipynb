{
 "cells": [
  {
   "cell_type": "markdown",
   "metadata": {},
   "source": [
    "##### Clustering Assignment:\n",
    "You are owning a supermarket mall and through membership cards, you have some basic data about your customers like Customer ID, age, gender, annual income and spending score. You want to understand your customers from various perspectives so that you can help your team plan their strategy.\n",
    "\n",
    "Customer Id : Id given to each customer\n",
    "\n",
    "Age: Age of customer\n",
    "\n",
    "Gender: Gender of customer\n",
    "\n",
    "Annual Income: Annual Income of customer\n",
    "\n",
    "Spending score: Score that defines the spending of the customer(1-100). Value close to 100 indicates a better score whereas \n",
    "\n",
    "value close to zero indicate a poor score\n",
    "\n",
    "Things to try out:\n",
    "Try plotting different types of graphs such as histogram, box plot, scatter plot to understand relation between different customers. This might help you to better understand the cluster that you will try to form.\n",
    "\n",
    "Try out different clustering methods that you have learned so far (k means, hierarchical clustering, DBSCAN etc.) and select the appropriate number of clusters.\n",
    "\n",
    "Understand each cluster carefully and investigate what variables or combination of variables are there that separate a cluster from the rest of the clusters.\n",
    "\n",
    "After deep examination of each cluster think about the strategies that might help you generate more revenue. You might want to target different clusters with different strategies."
   ]
  },
  {
   "cell_type": "markdown",
   "metadata": {},
   "source": [
    "### Importing essential libraries"
   ]
  },
  {
   "cell_type": "code",
   "execution_count": 8,
   "metadata": {},
   "outputs": [],
   "source": [
    "import numpy as np\n",
    "import pandas as pd\n",
    "import matplotlib.pyplot as plt\n",
    "import seaborn as sns\n",
    "from sklearn.cluster import KMeans\n",
    "from sklearn.model_selection import train_test_split"
   ]
  },
  {
   "cell_type": "markdown",
   "metadata": {},
   "source": [
    "### Creating dataframe of data"
   ]
  },
  {
   "cell_type": "code",
   "execution_count": 12,
   "metadata": {},
   "outputs": [
    {
     "data": {
      "text/html": [
       "<div>\n",
       "<style scoped>\n",
       "    .dataframe tbody tr th:only-of-type {\n",
       "        vertical-align: middle;\n",
       "    }\n",
       "\n",
       "    .dataframe tbody tr th {\n",
       "        vertical-align: top;\n",
       "    }\n",
       "\n",
       "    .dataframe thead th {\n",
       "        text-align: right;\n",
       "    }\n",
       "</style>\n",
       "<table border=\"1\" class=\"dataframe\">\n",
       "  <thead>\n",
       "    <tr style=\"text-align: right;\">\n",
       "      <th></th>\n",
       "      <th>CustomerID</th>\n",
       "      <th>Gender</th>\n",
       "      <th>Age</th>\n",
       "      <th>Annual Income (k$)</th>\n",
       "      <th>Spending Score (1-100)</th>\n",
       "    </tr>\n",
       "  </thead>\n",
       "  <tbody>\n",
       "    <tr>\n",
       "      <td>0</td>\n",
       "      <td>1</td>\n",
       "      <td>Male</td>\n",
       "      <td>19</td>\n",
       "      <td>15</td>\n",
       "      <td>39</td>\n",
       "    </tr>\n",
       "    <tr>\n",
       "      <td>1</td>\n",
       "      <td>2</td>\n",
       "      <td>Male</td>\n",
       "      <td>21</td>\n",
       "      <td>15</td>\n",
       "      <td>81</td>\n",
       "    </tr>\n",
       "    <tr>\n",
       "      <td>2</td>\n",
       "      <td>3</td>\n",
       "      <td>Female</td>\n",
       "      <td>20</td>\n",
       "      <td>16</td>\n",
       "      <td>6</td>\n",
       "    </tr>\n",
       "    <tr>\n",
       "      <td>3</td>\n",
       "      <td>4</td>\n",
       "      <td>Female</td>\n",
       "      <td>23</td>\n",
       "      <td>16</td>\n",
       "      <td>77</td>\n",
       "    </tr>\n",
       "    <tr>\n",
       "      <td>4</td>\n",
       "      <td>5</td>\n",
       "      <td>Female</td>\n",
       "      <td>31</td>\n",
       "      <td>17</td>\n",
       "      <td>40</td>\n",
       "    </tr>\n",
       "  </tbody>\n",
       "</table>\n",
       "</div>"
      ],
      "text/plain": [
       "   CustomerID  Gender  Age  Annual Income (k$)  Spending Score (1-100)\n",
       "0           1    Male   19                  15                      39\n",
       "1           2    Male   21                  15                      81\n",
       "2           3  Female   20                  16                       6\n",
       "3           4  Female   23                  16                      77\n",
       "4           5  Female   31                  17                      40"
      ]
     },
     "execution_count": 12,
     "metadata": {},
     "output_type": "execute_result"
    }
   ],
   "source": [
    "df = pd.read_csv('assignment_shala_clustering.csv')\n",
    "df.head(5)"
   ]
  },
  {
   "cell_type": "markdown",
   "metadata": {},
   "source": [
    "### Exploratory Data Analysis"
   ]
  },
  {
   "cell_type": "code",
   "execution_count": 13,
   "metadata": {},
   "outputs": [
    {
     "name": "stdout",
     "output_type": "stream",
     "text": [
      "<class 'pandas.core.frame.DataFrame'>\n",
      "RangeIndex: 200 entries, 0 to 199\n",
      "Data columns (total 5 columns):\n",
      "CustomerID                200 non-null int64\n",
      "Gender                    200 non-null object\n",
      "Age                       200 non-null int64\n",
      "Annual Income (k$)        200 non-null int64\n",
      "Spending Score (1-100)    200 non-null int64\n",
      "dtypes: int64(4), object(1)\n",
      "memory usage: 7.9+ KB\n"
     ]
    }
   ],
   "source": [
    "df.info()"
   ]
  },
  {
   "cell_type": "code",
   "execution_count": 14,
   "metadata": {},
   "outputs": [
    {
     "data": {
      "text/plain": [
       "CustomerID                0\n",
       "Gender                    0\n",
       "Age                       0\n",
       "Annual Income (k$)        0\n",
       "Spending Score (1-100)    0\n",
       "dtype: int64"
      ]
     },
     "execution_count": 14,
     "metadata": {},
     "output_type": "execute_result"
    }
   ],
   "source": [
    "df.isna().sum()"
   ]
  },
  {
   "cell_type": "code",
   "execution_count": 15,
   "metadata": {},
   "outputs": [
    {
     "data": {
      "text/html": [
       "<div>\n",
       "<style scoped>\n",
       "    .dataframe tbody tr th:only-of-type {\n",
       "        vertical-align: middle;\n",
       "    }\n",
       "\n",
       "    .dataframe tbody tr th {\n",
       "        vertical-align: top;\n",
       "    }\n",
       "\n",
       "    .dataframe thead th {\n",
       "        text-align: right;\n",
       "    }\n",
       "</style>\n",
       "<table border=\"1\" class=\"dataframe\">\n",
       "  <thead>\n",
       "    <tr style=\"text-align: right;\">\n",
       "      <th></th>\n",
       "      <th>CustomerID</th>\n",
       "      <th>Age</th>\n",
       "      <th>Annual Income (k$)</th>\n",
       "      <th>Spending Score (1-100)</th>\n",
       "    </tr>\n",
       "  </thead>\n",
       "  <tbody>\n",
       "    <tr>\n",
       "      <td>count</td>\n",
       "      <td>200.000000</td>\n",
       "      <td>200.000000</td>\n",
       "      <td>200.000000</td>\n",
       "      <td>200.000000</td>\n",
       "    </tr>\n",
       "    <tr>\n",
       "      <td>mean</td>\n",
       "      <td>100.500000</td>\n",
       "      <td>38.850000</td>\n",
       "      <td>60.560000</td>\n",
       "      <td>50.200000</td>\n",
       "    </tr>\n",
       "    <tr>\n",
       "      <td>std</td>\n",
       "      <td>57.879185</td>\n",
       "      <td>13.969007</td>\n",
       "      <td>26.264721</td>\n",
       "      <td>25.823522</td>\n",
       "    </tr>\n",
       "    <tr>\n",
       "      <td>min</td>\n",
       "      <td>1.000000</td>\n",
       "      <td>18.000000</td>\n",
       "      <td>15.000000</td>\n",
       "      <td>1.000000</td>\n",
       "    </tr>\n",
       "    <tr>\n",
       "      <td>25%</td>\n",
       "      <td>50.750000</td>\n",
       "      <td>28.750000</td>\n",
       "      <td>41.500000</td>\n",
       "      <td>34.750000</td>\n",
       "    </tr>\n",
       "    <tr>\n",
       "      <td>50%</td>\n",
       "      <td>100.500000</td>\n",
       "      <td>36.000000</td>\n",
       "      <td>61.500000</td>\n",
       "      <td>50.000000</td>\n",
       "    </tr>\n",
       "    <tr>\n",
       "      <td>75%</td>\n",
       "      <td>150.250000</td>\n",
       "      <td>49.000000</td>\n",
       "      <td>78.000000</td>\n",
       "      <td>73.000000</td>\n",
       "    </tr>\n",
       "    <tr>\n",
       "      <td>max</td>\n",
       "      <td>200.000000</td>\n",
       "      <td>70.000000</td>\n",
       "      <td>137.000000</td>\n",
       "      <td>99.000000</td>\n",
       "    </tr>\n",
       "  </tbody>\n",
       "</table>\n",
       "</div>"
      ],
      "text/plain": [
       "       CustomerID         Age  Annual Income (k$)  Spending Score (1-100)\n",
       "count  200.000000  200.000000          200.000000              200.000000\n",
       "mean   100.500000   38.850000           60.560000               50.200000\n",
       "std     57.879185   13.969007           26.264721               25.823522\n",
       "min      1.000000   18.000000           15.000000                1.000000\n",
       "25%     50.750000   28.750000           41.500000               34.750000\n",
       "50%    100.500000   36.000000           61.500000               50.000000\n",
       "75%    150.250000   49.000000           78.000000               73.000000\n",
       "max    200.000000   70.000000          137.000000               99.000000"
      ]
     },
     "execution_count": 15,
     "metadata": {},
     "output_type": "execute_result"
    }
   ],
   "source": [
    "df.describe()"
   ]
  },
  {
   "cell_type": "code",
   "execution_count": 18,
   "metadata": {},
   "outputs": [
    {
     "data": {
      "text/plain": [
       "(200, 5)"
      ]
     },
     "execution_count": 18,
     "metadata": {},
     "output_type": "execute_result"
    }
   ],
   "source": [
    "df.shape"
   ]
  },
  {
   "cell_type": "code",
   "execution_count": 21,
   "metadata": {},
   "outputs": [
    {
     "data": {
      "text/plain": [
       "Female    112\n",
       "Male       88\n",
       "Name: Gender, dtype: int64"
      ]
     },
     "execution_count": 21,
     "metadata": {},
     "output_type": "execute_result"
    }
   ],
   "source": [
    "df.Gender.value_counts()"
   ]
  },
  {
   "cell_type": "markdown",
   "metadata": {},
   "source": [
    "### Data Visualizations"
   ]
  },
  {
   "cell_type": "code",
   "execution_count": 24,
   "metadata": {},
   "outputs": [
    {
     "data": {
      "image/png": "[encoded data removed]",
      "text/plain": [
       "<Figure size 720x504 with 4 Axes>"
      ]
     },
     "metadata": {
      "needs_background": "light"
     },
     "output_type": "display_data"
    }
   ],
   "source": [
    "df.hist(figsize=(10,7))\n",
    "plt.show()"
   ]
  },
  {
   "cell_type": "code",
   "execution_count": 25,
   "metadata": {},
   "outputs": [
    {
     "data": {
      "image/png": "[encoded data removed]",
      "text/plain": [
       "<Figure size 432x288 with 1 Axes>"
      ]
     },
     "metadata": {
      "needs_background": "light"
     },
     "output_type": "display_data"
    }
   ],
   "source": [
    "sns.countplot(x='Gender', data=df)\n",
    "plt.show()"
   ]
  },
  {
   "cell_type": "code",
   "execution_count": 30,
   "metadata": {},
   "outputs": [
    {
     "data": {
      "image/png": "[encoded data removed]",
      "text/plain": [
       "<Figure size 432x288 with 1 Axes>"
      ]
     },
     "metadata": {
      "needs_background": "light"
     },
     "output_type": "display_data"
    }
   ],
   "source": [
    "sns.regplot(x=df['Age'], y=df['Spending Score (1-100)'])\n",
    "plt.show()"
   ]
  },
  {
   "cell_type": "code",
   "execution_count": 39,
   "metadata": {},
   "outputs": [
    {
     "data": {
      "image/png": "[encoded data removed]",
      "text/plain": [
       "<Figure size 432x288 with 1 Axes>"
      ]
     },
     "metadata": {
      "needs_background": "light"
     },
     "output_type": "display_data"
    }
   ],
   "source": [
    "df[['Age', 'Spending Score (1-100)', 'Annual Income (k$)']].boxplot()\n",
    "plt.show()"
   ]
  },
  {
   "cell_type": "code",
   "execution_count": 40,
   "metadata": {},
   "outputs": [
    {
     "data": {
      "image/png": "[encoded data removed]",
      "text/plain": [
       "<Figure size 432x288 with 1 Axes>"
      ]
     },
     "metadata": {
      "needs_background": "light"
     },
     "output_type": "display_data"
    }
   ],
   "source": [
    "sns.boxplot(x=df['Gender'], y=df['Spending Score (1-100)'])\n",
    "plt.show()"
   ]
  },
  {
   "cell_type": "code",
   "execution_count": 41,
   "metadata": {},
   "outputs": [],
   "source": [
    "#Encoding categorical variable Gender to numeric\n",
    "df.Gender = df.Gender.apply(lambda x:1 if x=='Male' else 0)"
   ]
  },
  {
   "cell_type": "code",
   "execution_count": 42,
   "metadata": {},
   "outputs": [
    {
     "data": {
      "text/plain": [
       "0    112\n",
       "1     88\n",
       "Name: Gender, dtype: int64"
      ]
     },
     "execution_count": 42,
     "metadata": {},
     "output_type": "execute_result"
    }
   ],
   "source": [
    "df.Gender.value_counts()"
   ]
  },
  {
   "cell_type": "code",
   "execution_count": 47,
   "metadata": {},
   "outputs": [
    {
     "data": {
      "image/png": "[encoded data removed]",
      "text/plain": [
       "<Figure size 504x504 with 2 Axes>"
      ]
     },
     "metadata": {
      "needs_background": "light"
     },
     "output_type": "display_data"
    }
   ],
   "source": [
    "#Correlation\n",
    "plt.figure(figsize=(7,7))\n",
    "mask = np.zeros_like(df.corr(), dtype=np.bool)\n",
    "mask[np.triu_indices_from(mask)] = True\n",
    "sns.heatmap(df.corr(), vmin = -1, cmap=\"coolwarm\", annot=True, mask=mask)\n",
    "plt.show()"
   ]
  },
  {
   "cell_type": "markdown",
   "metadata": {},
   "source": [
    "### Model"
   ]
  },
  {
   "cell_type": "code",
   "execution_count": 48,
   "metadata": {},
   "outputs": [],
   "source": [
    "#Splitting data into train and test sets\n",
    "x, y = train_test_split(df, test_size=0.2)"
   ]
  },
  {
   "cell_type": "code",
   "execution_count": 63,
   "metadata": {},
   "outputs": [],
   "source": [
    "#Initially we assume 5 cluster to help us group the similar instances together\n",
    "clusters = 5\n",
    "kmeans = KMeans(n_clusters=clusters)\n",
    "predy = kmeans.fit_predict(x)"
   ]
  },
  {
   "cell_type": "code",
   "execution_count": 64,
   "metadata": {},
   "outputs": [
    {
     "data": {
      "text/plain": [
       "123756.19290392956"
      ]
     },
     "execution_count": 64,
     "metadata": {},
     "output_type": "execute_result"
    }
   ],
   "source": [
    "#Checking the sum of squares within the cluster\n",
    "kmeans.inertia_"
   ]
  },
  {
   "cell_type": "markdown",
   "metadata": {},
   "source": [
    "##### The KMeans Algorithm finds n cluster centroids (n is number of clusters we input to the algorithm to demarcate) and assigns each instance to the closest centroid. We can see the five centroids that algorithms found:"
   ]
  },
  {
   "cell_type": "code",
   "execution_count": 65,
   "metadata": {},
   "outputs": [
    {
     "data": {
      "text/plain": [
       "array([[162.5483871 ,   0.5483871 ,  40.77419355,  86.96774194,\n",
       "         17.22580645],\n",
       "       [ 37.07142857,   0.35714286,  45.14285714,  33.78571429,\n",
       "         30.32142857],\n",
       "       [160.875     ,   0.5625    ,  32.875     ,  86.3125    ,\n",
       "         82.71875   ],\n",
       "       [ 93.82692308,   0.40384615,  39.46153846,  58.28846154,\n",
       "         50.11538462],\n",
       "       [ 22.        ,   0.47058824,  25.17647059,  25.05882353,\n",
       "         79.11764706]])"
      ]
     },
     "execution_count": 65,
     "metadata": {},
     "output_type": "execute_result"
    }
   ],
   "source": [
    "kmeans.cluster_centers_"
   ]
  },
  {
   "cell_type": "code",
   "execution_count": 66,
   "metadata": {},
   "outputs": [
    {
     "data": {
      "text/plain": [
       "array([3, 4, 0, 4, 1, 1, 2, 1, 1, 4, 3, 0, 3, 2, 4, 0, 1, 0, 2, 2, 3, 1,\n",
       "       3, 4, 2, 0, 3, 3, 1, 1, 4, 3, 1, 2, 4, 3, 3, 3, 1, 2])"
      ]
     },
     "execution_count": 66,
     "metadata": {},
     "output_type": "execute_result"
    }
   ],
   "source": [
    "kmeans.predict(y)"
   ]
  },
  {
   "cell_type": "code",
   "execution_count": 67,
   "metadata": {},
   "outputs": [
    {
     "data": {
      "text/plain": [
       "array([[101.45630534,  39.89292109, 105.58805289,  26.18283885,\n",
       "         70.19535272],\n",
       "       [179.51510303,  49.12464623, 180.96829671, 105.03956531,\n",
       "         46.79780553],\n",
       "       [ 14.7984728 , 122.95156774,  67.73680251,  69.04209065,\n",
       "        153.68906506],\n",
       "       [135.82517686,  41.91252126, 125.80848308,  55.85904903,\n",
       "         31.16520329],\n",
       "       [174.15934849,  40.05195924, 175.86916135,  98.83845937,\n",
       "         43.79805813],\n",
       "       [128.0774512 ,  27.66797032, 127.26458429,  50.98758043,\n",
       "         43.98100408],\n",
       "       [ 76.65040848, 149.89597158,  12.14596287,  85.73753942,\n",
       "        153.36319603],\n",
       "       [127.01699641,  36.31826788, 119.72348105,  46.41786265,\n",
       "         40.1743174 ],\n",
       "       [124.0249505 ,  33.15788222, 119.75636482,  44.58055255,\n",
       "         44.13521219],\n",
       "       [154.24099688,  49.44205277, 141.47667445,  74.07767942,\n",
       "         13.39795471],\n",
       "       [ 70.13830547,  83.18663704,  73.7196508 ,  31.51011273,\n",
       "        108.71376022],\n",
       "       [ 18.24726114, 121.14637903,  62.43766423,  65.21563855,\n",
       "        149.23896909],\n",
       "       [ 77.10839432,  63.62627049,  83.90820528,  10.28267271,\n",
       "         90.3052302 ],\n",
       "       [ 62.307986  , 174.53473501,  37.90150939, 109.77040152,\n",
       "        187.41391565],\n",
       "       [135.52357713,  34.87859776, 127.96005007,  55.1815421 ,\n",
       "         32.26050967],\n",
       "       [ 41.84180604, 176.73350239,  85.59986515, 121.01431373,\n",
       "        205.16787792],\n",
       "       [120.00602656,  36.84739974, 122.58501913,  48.76003538,\n",
       "         68.35443453],\n",
       "       [ 33.51592722, 161.95176357,  52.15984484, 100.47905777,\n",
       "        184.1095563 ],\n",
       "       [ 60.09665299, 127.48843985,  18.15452875,  62.53923916,\n",
       "        136.55349916],\n",
       "       [ 72.70617818, 168.146669  ,  23.92356399, 103.03697382,\n",
       "        175.69769965],\n",
       "       [ 69.62499521,  81.91948667,  77.7561857 ,  33.43424506,\n",
       "        110.21412001],\n",
       "       [157.99641061,  22.18305683, 165.49516432,  86.30047404,\n",
       "         56.96313991],\n",
       "       [ 93.1022398 ,  55.76944385, 100.06884837,  31.2638076 ,\n",
       "         88.09673434],\n",
       "       [176.08867256,  54.01866883, 165.58294572,  95.59893532,\n",
       "         15.96427673],\n",
       "       [ 75.69545065, 171.16955507,  26.73175853, 106.08035186,\n",
       "        177.92737914],\n",
       "       [ 31.87315521, 164.66594586,  69.22941509, 106.76629173,\n",
       "        191.99227745],\n",
       "       [ 81.52771916,  71.25418892,  76.96565412,  15.83091827,\n",
       "         86.22016559],\n",
       "       [ 60.95763698,  88.55879086,  69.74703875,  34.45122936,\n",
       "        115.56652992],\n",
       "       [134.44315728,  21.20180609, 141.46916418,  63.89958087,\n",
       "         63.72578582],\n",
       "       [168.18124236,  40.53237872, 181.329705  , 102.30799414,\n",
       "         78.40602777],\n",
       "       [159.8350802 ,  67.46439915, 138.73387082,  80.21247441,\n",
       "         20.61066006],\n",
       "       [112.55691588,  41.58058625, 112.13228533,  38.6269472 ,\n",
       "         67.79969991],\n",
       "       [164.77676382,  34.20028419, 177.43104129,  97.85665877,\n",
       "         72.76860515],\n",
       "       [ 63.45504853, 112.74029326,  32.68446747,  48.06048565,\n",
       "        121.85033931],\n",
       "       [184.40469509,  75.27911499, 164.20916361, 103.19400462,\n",
       "         25.07469809],\n",
       "       [ 89.44936191,  52.90438285,  92.87403789,  13.97396935,\n",
       "         79.67861483],\n",
       "       [ 73.28619082,  81.03007913,  74.92721077,  30.0032481 ,\n",
       "        105.7315102 ],\n",
       "       [ 67.47636114,  78.79731329,  71.6516707 ,  21.25401981,\n",
       "        103.74674715],\n",
       "       [115.77840886,  42.36426404, 115.03678505,  42.8930097 ,\n",
       "         68.17045601],\n",
       "       [ 58.10969568, 146.03209827,   9.88177181,  80.9558444 ,\n",
       "        156.4073844 ]])"
      ]
     },
     "execution_count": 67,
     "metadata": {},
     "output_type": "execute_result"
    }
   ],
   "source": [
    "kmeans.transform(y)"
   ]
  },
  {
   "cell_type": "code",
   "execution_count": 68,
   "metadata": {},
   "outputs": [
    {
     "data": {
      "image/png": "[encoded data removed]",
      "text/plain": [
       "<Figure size 504x360 with 1 Axes>"
      ]
     },
     "metadata": {
      "needs_background": "light"
     },
     "output_type": "display_data"
    }
   ],
   "source": [
    "from sklearn.metrics import silhouette_score\n",
    "kmeans_model = [KMeans(n_clusters=k, random_state=123).fit(x)\n",
    "                for k in range(1, 10)]\n",
    "silhouette_scores = [silhouette_score(x, model.labels_)\n",
    "                     for model in kmeans_model[1:]]\n",
    "plt.figure(figsize=(7, 5))\n",
    "plt.plot(range(2, 10), silhouette_scores, \"bo-\")\n",
    "plt.xlabel(\"$k$\", fontsize=14)\n",
    "plt.ylabel(\"Silhouette score\", fontsize=14)\n",
    "plt.show()"
   ]
  },
  {
   "cell_type": "code",
   "execution_count": null,
   "metadata": {},
   "outputs": [],
   "source": []
  },
  {
   "cell_type": "code",
   "execution_count": null,
   "metadata": {},
   "outputs": [],
   "source": []
  }
 ],
 "metadata": {
  "kernelspec": {
   "display_name": "Python 3",
   "language": "python",
   "name": "python3"
  },
  "language_info": {
   "codemirror_mode": {
    "name": "ipython",
    "version": 3
   },
   "file_extension": ".py",
   "mimetype": "text/x-python",
   "name": "python",
   "nbconvert_exporter": "python",
   "pygments_lexer": "ipython3",
   "version": "3.7.4"
  }
 },
 "nbformat": 4,
 "nbformat_minor": 2
}
